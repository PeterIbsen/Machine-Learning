{
  "nbformat": 4,
  "nbformat_minor": 0,
  "metadata": {
    "colab": {
      "name": "PI Deep Learning w python.ipynb",
      "provenance": [],
      "authorship_tag": "ABX9TyOuPWbIl8Zg1veJUD+7mPuU",
      "include_colab_link": true
    },
    "kernelspec": {
      "name": "python3",
      "display_name": "Python 3"
    },
    "language_info": {
      "name": "python"
    }
  },
  "cells": [
    {
      "cell_type": "markdown",
      "metadata": {
        "id": "view-in-github",
        "colab_type": "text"
      },
      "source": [
        "<a href=\"https://colab.research.google.com/github/PeterIbsen/Machine-Learning/blob/main/PI_Deep_Learning_w_python.ipynb\" target=\"_parent\"><img src=\"https://colab.research.google.com/assets/colab-badge.svg\" alt=\"Open In Colab\"/></a>"
      ]
    },
    {
      "cell_type": "code",
      "execution_count": null,
      "metadata": {
        "id": "JBTbRorToS2c"
      },
      "outputs": [],
      "source": [
        ""
      ]
    },
    {
      "cell_type": "markdown",
      "source": [
        "###All-ones or all-zeros tensors"
      ],
      "metadata": {
        "id": "tVkw0PWDuni-"
      }
    },
    {
      "cell_type": "code",
      "source": [
        "import tensorflow as tf\n",
        "x=tf.ones(shape=(2,1))\n",
        "print(x)\n",
        "x=tf.zeros(shape=(2,1))\n",
        "print(x)"
      ],
      "metadata": {
        "id": "kRFUCQlgtAi4"
      },
      "execution_count": null,
      "outputs": []
    }
  ]
}